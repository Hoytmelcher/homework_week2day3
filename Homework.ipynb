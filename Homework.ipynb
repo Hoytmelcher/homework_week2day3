{
 "cells": [
  {
   "cell_type": "markdown",
   "metadata": {},
   "source": [
    "1) Build a Shopping Cart\n",
    "You can use either lists or dictionaries. The program should have the following capabilities:\n",
    "\n",
    "1) Takes in input\n",
    "2) Stores user input into a dictionary or list\n",
    "3) The User can add or delete items\n",
    "4) The User can see current shopping list\n",
    "5) The program Loops until user 'quits'\n",
    "6) Upon quiting the program, print out all items in the user's list"
   ]
  },
  {
   "cell_type": "code",
   "execution_count": 1,
   "metadata": {},
   "outputs": [],
   "source": [
    "from IPython.display import clear_output\n",
    "\n",
    "# Ask the user four bits of input: Do you want to : Show/Add/Delete or Quit?\n",
    "\n",
    "def shopping_list(groceries):\n",
    "    groceries = cart\n",
    "\n",
    "def main():\n",
    "    cart = []\n",
    "    while True:\n",
    "        action = input('Would you like to add, remove, view, or end? ')\n",
    "        if action == 'add':\n",
    "            item = input('What would you like to add? ')\n",
    "            cart.append(item)\n",
    "        elif action == 'view':\n",
    "            print(cart)\n",
    "        elif action == 'remove':\n",
    "            removed_item = input('What would you like to remove? ')\n",
    "            cart.remove(removed_item)\n",
    "        else:\n",
    "            break\n",
    "    print(cart)\n",
    "    return cart\n",
    "\n",
    "\n",
    "main()\n"
   ]
  },
  {
   "attachments": {},
   "cell_type": "markdown",
   "metadata": {},
   "source": [
    "2) Create a Module in VS Code and Import It into jupyter notebook\n",
    "\n",
    "Module should have the following capabilities:\n",
    "\n",
    "1) Has a function to calculate the square footage of a house\n",
    "Reminder of Formula: Length X Width == Area\n",
    "\n",
    "2) Has a function to calculate the circumference of a circle\n",
    "\n",
    "Program in Jupyter Notebook should take in user input and use imported functions to calculate a circle's circumference or a houses square footage"
   ]
  },
  {
   "cell_type": "code",
   "execution_count": null,
   "metadata": {},
   "outputs": [],
   "source": [
    "from my_module import square_footage\n",
    "\n",
    "print(square_footage(10,10))\n",
    "\n",
    "from my_module import circumference\n",
    "\n",
    "print(circumference(9))"
   ]
  }
 ],
 "metadata": {
  "kernelspec": {
   "display_name": "Python 3",
   "language": "python",
   "name": "python3"
  },
  "language_info": {
   "codemirror_mode": {
    "name": "ipython",
    "version": 3
   },
   "file_extension": ".py",
   "mimetype": "text/x-python",
   "name": "python",
   "nbconvert_exporter": "python",
   "pygments_lexer": "ipython3",
   "version": "3.10.9"
  },
  "orig_nbformat": 4,
  "vscode": {
   "interpreter": {
    "hash": "dc0463107e4a0e7d06093e381f4ae042447da784bfecfb379b86e0d7a491426e"
   }
  }
 },
 "nbformat": 4,
 "nbformat_minor": 2
}
